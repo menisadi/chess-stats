{
 "cells": [
  {
   "cell_type": "code",
   "execution_count": 1,
   "id": "2e3e0ab3",
   "metadata": {},
   "outputs": [],
   "source": [
    "import pandas as pd\n",
    "import numpy as np\n",
    "import matplotlib.pyplot as plt\n",
    "import seaborn as sns\n",
    "%matplotlib inline"
   ]
  },
  {
   "cell_type": "code",
   "execution_count": 2,
   "id": "65a5c35f",
   "metadata": {},
   "outputs": [],
   "source": [
    "df = pd.read_xml('standard_apr22frl_xml.xml')"
   ]
  },
  {
   "cell_type": "code",
   "execution_count": 3,
   "id": "f22ae389",
   "metadata": {},
   "outputs": [
    {
     "data": {
      "text/html": [
       "<div>\n",
       "<style scoped>\n",
       "    .dataframe tbody tr th:only-of-type {\n",
       "        vertical-align: middle;\n",
       "    }\n",
       "\n",
       "    .dataframe tbody tr th {\n",
       "        vertical-align: top;\n",
       "    }\n",
       "\n",
       "    .dataframe thead th {\n",
       "        text-align: right;\n",
       "    }\n",
       "</style>\n",
       "<table border=\"1\" class=\"dataframe\">\n",
       "  <thead>\n",
       "    <tr style=\"text-align: right;\">\n",
       "      <th></th>\n",
       "      <th>fideid</th>\n",
       "      <th>name</th>\n",
       "      <th>country</th>\n",
       "      <th>sex</th>\n",
       "      <th>title</th>\n",
       "      <th>w_title</th>\n",
       "      <th>o_title</th>\n",
       "      <th>foa_title</th>\n",
       "      <th>rating</th>\n",
       "      <th>games</th>\n",
       "      <th>k</th>\n",
       "      <th>birthday</th>\n",
       "      <th>flag</th>\n",
       "    </tr>\n",
       "  </thead>\n",
       "  <tbody>\n",
       "    <tr>\n",
       "      <th>0</th>\n",
       "      <td>25121731</td>\n",
       "      <td>A C J John</td>\n",
       "      <td>IND</td>\n",
       "      <td>M</td>\n",
       "      <td>None</td>\n",
       "      <td>None</td>\n",
       "      <td>None</td>\n",
       "      <td>None</td>\n",
       "      <td>1063</td>\n",
       "      <td>0</td>\n",
       "      <td>40</td>\n",
       "      <td>1987.0</td>\n",
       "      <td>i</td>\n",
       "    </tr>\n",
       "    <tr>\n",
       "      <th>1</th>\n",
       "      <td>35077023</td>\n",
       "      <td>A Chakravarthy</td>\n",
       "      <td>IND</td>\n",
       "      <td>M</td>\n",
       "      <td>None</td>\n",
       "      <td>None</td>\n",
       "      <td>None</td>\n",
       "      <td>None</td>\n",
       "      <td>1151</td>\n",
       "      <td>0</td>\n",
       "      <td>40</td>\n",
       "      <td>1986.0</td>\n",
       "      <td>i</td>\n",
       "    </tr>\n",
       "    <tr>\n",
       "      <th>2</th>\n",
       "      <td>10207538</td>\n",
       "      <td>A E M, Doshtagir</td>\n",
       "      <td>BAN</td>\n",
       "      <td>M</td>\n",
       "      <td>None</td>\n",
       "      <td>None</td>\n",
       "      <td>None</td>\n",
       "      <td>None</td>\n",
       "      <td>1840</td>\n",
       "      <td>0</td>\n",
       "      <td>40</td>\n",
       "      <td>1974.0</td>\n",
       "      <td>i</td>\n",
       "    </tr>\n",
       "    <tr>\n",
       "      <th>3</th>\n",
       "      <td>10680810</td>\n",
       "      <td>A hamed Ashraf, Abdallah</td>\n",
       "      <td>EGY</td>\n",
       "      <td>M</td>\n",
       "      <td>None</td>\n",
       "      <td>None</td>\n",
       "      <td>None</td>\n",
       "      <td>None</td>\n",
       "      <td>1728</td>\n",
       "      <td>0</td>\n",
       "      <td>40</td>\n",
       "      <td>2001.0</td>\n",
       "      <td>i</td>\n",
       "    </tr>\n",
       "    <tr>\n",
       "      <th>4</th>\n",
       "      <td>5716365</td>\n",
       "      <td>A Hamid, Harman</td>\n",
       "      <td>MAS</td>\n",
       "      <td>M</td>\n",
       "      <td>None</td>\n",
       "      <td>None</td>\n",
       "      <td>None</td>\n",
       "      <td>None</td>\n",
       "      <td>1325</td>\n",
       "      <td>0</td>\n",
       "      <td>40</td>\n",
       "      <td>1970.0</td>\n",
       "      <td>i</td>\n",
       "    </tr>\n",
       "  </tbody>\n",
       "</table>\n",
       "</div>"
      ],
      "text/plain": [
       "     fideid                      name country sex title w_title o_title  \\\n",
       "0  25121731                A C J John     IND   M  None    None    None   \n",
       "1  35077023            A Chakravarthy     IND   M  None    None    None   \n",
       "2  10207538          A E M, Doshtagir     BAN   M  None    None    None   \n",
       "3  10680810  A hamed Ashraf, Abdallah     EGY   M  None    None    None   \n",
       "4   5716365           A Hamid, Harman     MAS   M  None    None    None   \n",
       "\n",
       "  foa_title  rating  games   k  birthday flag  \n",
       "0      None    1063      0  40    1987.0    i  \n",
       "1      None    1151      0  40    1986.0    i  \n",
       "2      None    1840      0  40    1974.0    i  \n",
       "3      None    1728      0  40    2001.0    i  \n",
       "4      None    1325      0  40    1970.0    i  "
      ]
     },
     "execution_count": 3,
     "metadata": {},
     "output_type": "execute_result"
    }
   ],
   "source": [
    "df.head()"
   ]
  },
  {
   "cell_type": "code",
   "execution_count": 4,
   "id": "48977b2e",
   "metadata": {},
   "outputs": [
    {
     "name": "stdout",
     "output_type": "stream",
     "text": [
      "<class 'pandas.core.frame.DataFrame'>\n",
      "RangeIndex: 383008 entries, 0 to 383007\n",
      "Data columns (total 13 columns):\n",
      " #   Column     Non-Null Count   Dtype  \n",
      "---  ------     --------------   -----  \n",
      " 0   fideid     383008 non-null  int64  \n",
      " 1   name       383008 non-null  object \n",
      " 2   country    383008 non-null  object \n",
      " 3   sex        383008 non-null  object \n",
      " 4   title      19825 non-null   object \n",
      " 5   w_title    3944 non-null    object \n",
      " 6   o_title    1134 non-null    object \n",
      " 7   foa_title  2171 non-null    object \n",
      " 8   rating     383008 non-null  int64  \n",
      " 9   games      383008 non-null  int64  \n",
      " 10  k          383008 non-null  int64  \n",
      " 11  birthday   374508 non-null  float64\n",
      " 12  flag       266245 non-null  object \n",
      "dtypes: float64(1), int64(4), object(8)\n",
      "memory usage: 38.0+ MB\n"
     ]
    }
   ],
   "source": [
    "df.info()"
   ]
  },
  {
   "cell_type": "code",
   "execution_count": 5,
   "id": "5d8e7dec",
   "metadata": {},
   "outputs": [
    {
     "data": {
      "text/html": [
       "<div>\n",
       "<style scoped>\n",
       "    .dataframe tbody tr th:only-of-type {\n",
       "        vertical-align: middle;\n",
       "    }\n",
       "\n",
       "    .dataframe tbody tr th {\n",
       "        vertical-align: top;\n",
       "    }\n",
       "\n",
       "    .dataframe thead th {\n",
       "        text-align: right;\n",
       "    }\n",
       "</style>\n",
       "<table border=\"1\" class=\"dataframe\">\n",
       "  <thead>\n",
       "    <tr style=\"text-align: right;\">\n",
       "      <th></th>\n",
       "      <th>fideid</th>\n",
       "      <th>rating</th>\n",
       "      <th>games</th>\n",
       "      <th>k</th>\n",
       "      <th>birthday</th>\n",
       "    </tr>\n",
       "  </thead>\n",
       "  <tbody>\n",
       "    <tr>\n",
       "      <th>count</th>\n",
       "      <td>3.830080e+05</td>\n",
       "      <td>383008.000000</td>\n",
       "      <td>383008.000000</td>\n",
       "      <td>383008.000000</td>\n",
       "      <td>374508.000000</td>\n",
       "    </tr>\n",
       "    <tr>\n",
       "      <th>mean</th>\n",
       "      <td>1.975240e+07</td>\n",
       "      <td>1643.558701</td>\n",
       "      <td>0.530093</td>\n",
       "      <td>30.864616</td>\n",
       "      <td>1983.441772</td>\n",
       "    </tr>\n",
       "    <tr>\n",
       "      <th>std</th>\n",
       "      <td>5.501232e+07</td>\n",
       "      <td>348.615116</td>\n",
       "      <td>1.924423</td>\n",
       "      <td>10.213296</td>\n",
       "      <td>20.137048</td>\n",
       "    </tr>\n",
       "    <tr>\n",
       "      <th>min</th>\n",
       "      <td>1.000130e+05</td>\n",
       "      <td>1001.000000</td>\n",
       "      <td>0.000000</td>\n",
       "      <td>10.000000</td>\n",
       "      <td>1919.000000</td>\n",
       "    </tr>\n",
       "    <tr>\n",
       "      <th>25%</th>\n",
       "      <td>2.240339e+06</td>\n",
       "      <td>1361.000000</td>\n",
       "      <td>0.000000</td>\n",
       "      <td>20.000000</td>\n",
       "      <td>1968.000000</td>\n",
       "    </tr>\n",
       "    <tr>\n",
       "      <th>50%</th>\n",
       "      <td>1.022449e+07</td>\n",
       "      <td>1645.000000</td>\n",
       "      <td>0.000000</td>\n",
       "      <td>40.000000</td>\n",
       "      <td>1988.000000</td>\n",
       "    </tr>\n",
       "    <tr>\n",
       "      <th>75%</th>\n",
       "      <td>2.463369e+07</td>\n",
       "      <td>1912.000000</td>\n",
       "      <td>0.000000</td>\n",
       "      <td>40.000000</td>\n",
       "      <td>2001.000000</td>\n",
       "    </tr>\n",
       "    <tr>\n",
       "      <th>max</th>\n",
       "      <td>6.520732e+08</td>\n",
       "      <td>2864.000000</td>\n",
       "      <td>45.000000</td>\n",
       "      <td>40.000000</td>\n",
       "      <td>2017.000000</td>\n",
       "    </tr>\n",
       "  </tbody>\n",
       "</table>\n",
       "</div>"
      ],
      "text/plain": [
       "             fideid         rating          games              k  \\\n",
       "count  3.830080e+05  383008.000000  383008.000000  383008.000000   \n",
       "mean   1.975240e+07    1643.558701       0.530093      30.864616   \n",
       "std    5.501232e+07     348.615116       1.924423      10.213296   \n",
       "min    1.000130e+05    1001.000000       0.000000      10.000000   \n",
       "25%    2.240339e+06    1361.000000       0.000000      20.000000   \n",
       "50%    1.022449e+07    1645.000000       0.000000      40.000000   \n",
       "75%    2.463369e+07    1912.000000       0.000000      40.000000   \n",
       "max    6.520732e+08    2864.000000      45.000000      40.000000   \n",
       "\n",
       "            birthday  \n",
       "count  374508.000000  \n",
       "mean     1983.441772  \n",
       "std        20.137048  \n",
       "min      1919.000000  \n",
       "25%      1968.000000  \n",
       "50%      1988.000000  \n",
       "75%      2001.000000  \n",
       "max      2017.000000  "
      ]
     },
     "execution_count": 5,
     "metadata": {},
     "output_type": "execute_result"
    }
   ],
   "source": [
    "df.describe()"
   ]
  },
  {
   "cell_type": "code",
   "execution_count": 11,
   "id": "471b476c",
   "metadata": {},
   "outputs": [
    {
     "data": {
      "text/plain": [
       "1756"
      ]
     },
     "execution_count": 11,
     "metadata": {},
     "output_type": "execute_result"
    }
   ],
   "source": [
    "len(df[df['title']=='GM'])\n",
    "# df['title'].unique()"
   ]
  },
  {
   "cell_type": "code",
   "execution_count": 13,
   "id": "dac2acb6",
   "metadata": {},
   "outputs": [
    {
     "data": {
      "text/html": [
       "<div>\n",
       "<style scoped>\n",
       "    .dataframe tbody tr th:only-of-type {\n",
       "        vertical-align: middle;\n",
       "    }\n",
       "\n",
       "    .dataframe tbody tr th {\n",
       "        vertical-align: top;\n",
       "    }\n",
       "\n",
       "    .dataframe thead th {\n",
       "        text-align: right;\n",
       "    }\n",
       "</style>\n",
       "<table border=\"1\" class=\"dataframe\">\n",
       "  <thead>\n",
       "    <tr style=\"text-align: right;\">\n",
       "      <th></th>\n",
       "      <th>fideid</th>\n",
       "      <th>rating</th>\n",
       "      <th>games</th>\n",
       "      <th>k</th>\n",
       "      <th>birthday</th>\n",
       "    </tr>\n",
       "  </thead>\n",
       "  <tbody>\n",
       "    <tr>\n",
       "      <th>count</th>\n",
       "      <td>1.756000e+03</td>\n",
       "      <td>1756.000000</td>\n",
       "      <td>1756.000000</td>\n",
       "      <td>1756.0</td>\n",
       "      <td>1756.000000</td>\n",
       "    </tr>\n",
       "    <tr>\n",
       "      <th>mean</th>\n",
       "      <td>6.126736e+06</td>\n",
       "      <td>2501.070046</td>\n",
       "      <td>2.586560</td>\n",
       "      <td>10.0</td>\n",
       "      <td>1977.724943</td>\n",
       "    </tr>\n",
       "    <tr>\n",
       "      <th>std</th>\n",
       "      <td>6.129494e+06</td>\n",
       "      <td>96.114599</td>\n",
       "      <td>5.305904</td>\n",
       "      <td>0.0</td>\n",
       "      <td>14.928283</td>\n",
       "    </tr>\n",
       "    <tr>\n",
       "      <th>min</th>\n",
       "      <td>1.000130e+05</td>\n",
       "      <td>2111.000000</td>\n",
       "      <td>0.000000</td>\n",
       "      <td>10.0</td>\n",
       "      <td>1922.000000</td>\n",
       "    </tr>\n",
       "    <tr>\n",
       "      <th>25%</th>\n",
       "      <td>1.506428e+06</td>\n",
       "      <td>2443.000000</td>\n",
       "      <td>0.000000</td>\n",
       "      <td>10.0</td>\n",
       "      <td>1967.000000</td>\n",
       "    </tr>\n",
       "    <tr>\n",
       "      <th>50%</th>\n",
       "      <td>4.119072e+06</td>\n",
       "      <td>2500.000000</td>\n",
       "      <td>0.000000</td>\n",
       "      <td>10.0</td>\n",
       "      <td>1979.000000</td>\n",
       "    </tr>\n",
       "    <tr>\n",
       "      <th>75%</th>\n",
       "      <td>1.240008e+07</td>\n",
       "      <td>2561.000000</td>\n",
       "      <td>3.000000</td>\n",
       "      <td>10.0</td>\n",
       "      <td>1989.000000</td>\n",
       "    </tr>\n",
       "    <tr>\n",
       "      <th>max</th>\n",
       "      <td>4.661855e+07</td>\n",
       "      <td>2864.000000</td>\n",
       "      <td>40.000000</td>\n",
       "      <td>10.0</td>\n",
       "      <td>2009.000000</td>\n",
       "    </tr>\n",
       "  </tbody>\n",
       "</table>\n",
       "</div>"
      ],
      "text/plain": [
       "             fideid       rating        games       k     birthday\n",
       "count  1.756000e+03  1756.000000  1756.000000  1756.0  1756.000000\n",
       "mean   6.126736e+06  2501.070046     2.586560    10.0  1977.724943\n",
       "std    6.129494e+06    96.114599     5.305904     0.0    14.928283\n",
       "min    1.000130e+05  2111.000000     0.000000    10.0  1922.000000\n",
       "25%    1.506428e+06  2443.000000     0.000000    10.0  1967.000000\n",
       "50%    4.119072e+06  2500.000000     0.000000    10.0  1979.000000\n",
       "75%    1.240008e+07  2561.000000     3.000000    10.0  1989.000000\n",
       "max    4.661855e+07  2864.000000    40.000000    10.0  2009.000000"
      ]
     },
     "execution_count": 13,
     "metadata": {},
     "output_type": "execute_result"
    }
   ],
   "source": [
    "df[df['title']=='GM'].describe()"
   ]
  },
  {
   "cell_type": "code",
   "execution_count": 15,
   "id": "8e696e71",
   "metadata": {},
   "outputs": [],
   "source": [
    "gms = df[df['title']=='GM']"
   ]
  },
  {
   "cell_type": "code",
   "execution_count": 19,
   "id": "56e406f1",
   "metadata": {},
   "outputs": [
    {
     "data": {
      "text/plain": [
       "<matplotlib.axes._subplots.AxesSubplot at 0x144842ebe08>"
      ]
     },
     "execution_count": 19,
     "metadata": {},
     "output_type": "execute_result"
    },
    {
     "data": {
      "image/png": "[encoded data removed]",
      "text/plain": [
       "<Figure size 432x288 with 1 Axes>"
      ]
     },
     "metadata": {
      "needs_background": "light"
     },
     "output_type": "display_data"
    }
   ],
   "source": [
    "sns.histplot(gms['rating'], bins=30)"
   ]
  },
  {
   "cell_type": "code",
   "execution_count": 29,
   "id": "4e28c90e",
   "metadata": {},
   "outputs": [
    {
     "name": "stderr",
     "output_type": "stream",
     "text": [
      "C:\\ProgramData\\Miniconda3\\lib\\site-packages\\ipykernel_launcher.py:1: SettingWithCopyWarning: \n",
      "A value is trying to be set on a copy of a slice from a DataFrame.\n",
      "Try using .loc[row_indexer,col_indexer] = value instead\n",
      "\n",
      "See the caveats in the documentation: https://pandas.pydata.org/pandas-docs/stable/user_guide/indexing.html#returning-a-view-versus-a-copy\n",
      "  \"\"\"Entry point for launching an IPython kernel.\n"
     ]
    }
   ],
   "source": [
    "gms['age'] = gms['birthday'].apply(lambda b: 2022-b)"
   ]
  },
  {
   "cell_type": "code",
   "execution_count": 33,
   "id": "06f05d26",
   "metadata": {},
   "outputs": [
    {
     "data": {
      "text/plain": [
       "<matplotlib.axes._subplots.AxesSubplot at 0x1449bbf76c8>"
      ]
     },
     "execution_count": 33,
     "metadata": {},
     "output_type": "execute_result"
    },
    {
     "data": {
      "image/png": "[encoded data removed]",
      "text/plain": [
       "<Figure size 432x288 with 1 Axes>"
      ]
     },
     "metadata": {
      "needs_background": "light"
     },
     "output_type": "display_data"
    }
   ],
   "source": [
    "sns.histplot(gms['age'], bins=30)"
   ]
  },
  {
   "cell_type": "code",
   "execution_count": 34,
   "id": "7ecd59e3",
   "metadata": {},
   "outputs": [],
   "source": [
    "df['age'] = df['birthday'].apply(lambda b: 2022-b)"
   ]
  },
  {
   "cell_type": "code",
   "execution_count": 36,
   "id": "cafc53aa",
   "metadata": {},
   "outputs": [
    {
     "data": {
      "text/plain": [
       "<matplotlib.axes._subplots.AxesSubplot at 0x1449bc2e808>"
      ]
     },
     "execution_count": 36,
     "metadata": {},
     "output_type": "execute_result"
    },
    {
     "data": {
      "image/png": "[encoded data removed]",
      "text/plain": [
       "<Figure size 432x288 with 1 Axes>"
      ]
     },
     "metadata": {
      "needs_background": "light"
     },
     "output_type": "display_data"
    }
   ],
   "source": [
    "sns.histplot(df['age'], bins=30)"
   ]
  },
  {
   "cell_type": "code",
   "execution_count": 40,
   "id": "772e243f",
   "metadata": {},
   "outputs": [
    {
     "data": {
      "text/plain": [
       "19825"
      ]
     },
     "execution_count": 40,
     "metadata": {},
     "output_type": "execute_result"
    }
   ],
   "source": [
    "sum(df['title'].notnull())"
   ]
  },
  {
   "cell_type": "code",
   "execution_count": 41,
   "id": "204a0997",
   "metadata": {},
   "outputs": [],
   "source": [
    "titled = df[df['title'].notnull()]"
   ]
  },
  {
   "cell_type": "code",
   "execution_count": 42,
   "id": "4cc21151",
   "metadata": {},
   "outputs": [
    {
     "data": {
      "text/plain": [
       "<matplotlib.axes._subplots.AxesSubplot at 0x1449bbe4e88>"
      ]
     },
     "execution_count": 42,
     "metadata": {},
     "output_type": "execute_result"
    },
    {
     "data": {
      "image/png": "[encoded data removed]",
      "text/plain": [
       "<Figure size 432x288 with 1 Axes>"
      ]
     },
     "metadata": {
      "needs_background": "light"
     },
     "output_type": "display_data"
    }
   ],
   "source": [
    "sns.histplot(titled['age'], bins=30)"
   ]
  },
  {
   "cell_type": "code",
   "execution_count": 43,
   "id": "7da58274",
   "metadata": {},
   "outputs": [
    {
     "data": {
      "text/html": [
       "<div>\n",
       "<style scoped>\n",
       "    .dataframe tbody tr th:only-of-type {\n",
       "        vertical-align: middle;\n",
       "    }\n",
       "\n",
       "    .dataframe tbody tr th {\n",
       "        vertical-align: top;\n",
       "    }\n",
       "\n",
       "    .dataframe thead th {\n",
       "        text-align: right;\n",
       "    }\n",
       "</style>\n",
       "<table border=\"1\" class=\"dataframe\">\n",
       "  <thead>\n",
       "    <tr style=\"text-align: right;\">\n",
       "      <th></th>\n",
       "      <th>fideid</th>\n",
       "      <th>name</th>\n",
       "      <th>country</th>\n",
       "      <th>sex</th>\n",
       "      <th>title</th>\n",
       "      <th>w_title</th>\n",
       "      <th>o_title</th>\n",
       "      <th>foa_title</th>\n",
       "      <th>rating</th>\n",
       "      <th>games</th>\n",
       "      <th>k</th>\n",
       "      <th>birthday</th>\n",
       "      <th>flag</th>\n",
       "      <th>age</th>\n",
       "    </tr>\n",
       "  </thead>\n",
       "  <tbody>\n",
       "    <tr>\n",
       "      <th>13</th>\n",
       "      <td>4804929</td>\n",
       "      <td>A-ALI, Sali Abbas Abdulzahra</td>\n",
       "      <td>IRQ</td>\n",
       "      <td>F</td>\n",
       "      <td>WFM</td>\n",
       "      <td>WFM</td>\n",
       "      <td>None</td>\n",
       "      <td>None</td>\n",
       "      <td>1864</td>\n",
       "      <td>7</td>\n",
       "      <td>20</td>\n",
       "      <td>2001.0</td>\n",
       "      <td>w</td>\n",
       "      <td>21.0</td>\n",
       "    </tr>\n",
       "    <tr>\n",
       "      <th>29</th>\n",
       "      <td>1701991</td>\n",
       "      <td>Aaberg, Anton</td>\n",
       "      <td>SWE</td>\n",
       "      <td>M</td>\n",
       "      <td>IM</td>\n",
       "      <td>None</td>\n",
       "      <td>None</td>\n",
       "      <td>None</td>\n",
       "      <td>2325</td>\n",
       "      <td>1</td>\n",
       "      <td>10</td>\n",
       "      <td>1972.0</td>\n",
       "      <td>None</td>\n",
       "      <td>50.0</td>\n",
       "    </tr>\n",
       "    <tr>\n",
       "      <th>33</th>\n",
       "      <td>1407589</td>\n",
       "      <td>Aabling-Thomsen, Jakob</td>\n",
       "      <td>DEN</td>\n",
       "      <td>M</td>\n",
       "      <td>IM</td>\n",
       "      <td>None</td>\n",
       "      <td>None</td>\n",
       "      <td>None</td>\n",
       "      <td>2349</td>\n",
       "      <td>0</td>\n",
       "      <td>10</td>\n",
       "      <td>1985.0</td>\n",
       "      <td>None</td>\n",
       "      <td>37.0</td>\n",
       "    </tr>\n",
       "    <tr>\n",
       "      <th>75</th>\n",
       "      <td>25678191</td>\n",
       "      <td>Aaditya Dhingra</td>\n",
       "      <td>IND</td>\n",
       "      <td>M</td>\n",
       "      <td>CM</td>\n",
       "      <td>None</td>\n",
       "      <td>None</td>\n",
       "      <td>None</td>\n",
       "      <td>2042</td>\n",
       "      <td>28</td>\n",
       "      <td>40</td>\n",
       "      <td>2006.0</td>\n",
       "      <td>None</td>\n",
       "      <td>16.0</td>\n",
       "    </tr>\n",
       "    <tr>\n",
       "      <th>99</th>\n",
       "      <td>1401815</td>\n",
       "      <td>Aagaard, Jacob</td>\n",
       "      <td>SCO</td>\n",
       "      <td>M</td>\n",
       "      <td>GM</td>\n",
       "      <td>None</td>\n",
       "      <td>None</td>\n",
       "      <td>None</td>\n",
       "      <td>2465</td>\n",
       "      <td>0</td>\n",
       "      <td>10</td>\n",
       "      <td>1973.0</td>\n",
       "      <td>None</td>\n",
       "      <td>49.0</td>\n",
       "    </tr>\n",
       "  </tbody>\n",
       "</table>\n",
       "</div>"
      ],
      "text/plain": [
       "      fideid                          name country sex title w_title o_title  \\\n",
       "13   4804929  A-ALI, Sali Abbas Abdulzahra     IRQ   F   WFM     WFM    None   \n",
       "29   1701991                 Aaberg, Anton     SWE   M    IM    None    None   \n",
       "33   1407589        Aabling-Thomsen, Jakob     DEN   M    IM    None    None   \n",
       "75  25678191               Aaditya Dhingra     IND   M    CM    None    None   \n",
       "99   1401815                Aagaard, Jacob     SCO   M    GM    None    None   \n",
       "\n",
       "   foa_title  rating  games   k  birthday  flag   age  \n",
       "13      None    1864      7  20    2001.0     w  21.0  \n",
       "29      None    2325      1  10    1972.0  None  50.0  \n",
       "33      None    2349      0  10    1985.0  None  37.0  \n",
       "75      None    2042     28  40    2006.0  None  16.0  \n",
       "99      None    2465      0  10    1973.0  None  49.0  "
      ]
     },
     "execution_count": 43,
     "metadata": {},
     "output_type": "execute_result"
    }
   ],
   "source": [
    "titled.head()"
   ]
  },
  {
   "cell_type": "code",
   "execution_count": 46,
   "id": "8cfc465a",
   "metadata": {},
   "outputs": [
    {
     "data": {
      "text/plain": [
       "<matplotlib.axes._subplots.AxesSubplot at 0x1449bd03c08>"
      ]
     },
     "execution_count": 46,
     "metadata": {},
     "output_type": "execute_result"
    },
    {
     "data": {
      "image/png": "[encoded data removed]",
      "text/plain": [
       "<Figure size 432x288 with 1 Axes>"
      ]
     },
     "metadata": {
      "needs_background": "light"
     },
     "output_type": "display_data"
    }
   ],
   "source": [
    "sns.histplot(titled[titled['sex']=='F']['age'], bins=30)"
   ]
  },
  {
   "cell_type": "code",
   "execution_count": 52,
   "id": "09333c9a",
   "metadata": {
    "scrolled": true
   },
   "outputs": [],
   "source": [
    "genders_by_age = df.pivot_table(index='age', columns='sex',aggfunc='count',fill_value=0)['rating']"
   ]
  },
  {
   "cell_type": "code",
   "execution_count": 66,
   "id": "8e2152eb",
   "metadata": {},
   "outputs": [],
   "source": [
    "genders_by_age['ratio'] = genders_by_age.apply(lambda x: x.F/(x.F+x.M), axis=1)"
   ]
  },
  {
   "cell_type": "code",
   "execution_count": 67,
   "id": "1c91b70d",
   "metadata": {},
   "outputs": [
    {
     "data": {
      "text/html": [
       "<div>\n",
       "<style scoped>\n",
       "    .dataframe tbody tr th:only-of-type {\n",
       "        vertical-align: middle;\n",
       "    }\n",
       "\n",
       "    .dataframe tbody tr th {\n",
       "        vertical-align: top;\n",
       "    }\n",
       "\n",
       "    .dataframe thead th {\n",
       "        text-align: right;\n",
       "    }\n",
       "</style>\n",
       "<table border=\"1\" class=\"dataframe\">\n",
       "  <thead>\n",
       "    <tr style=\"text-align: right;\">\n",
       "      <th>sex</th>\n",
       "      <th>F</th>\n",
       "      <th>M</th>\n",
       "      <th>ratio</th>\n",
       "    </tr>\n",
       "    <tr>\n",
       "      <th>age</th>\n",
       "      <th></th>\n",
       "      <th></th>\n",
       "      <th></th>\n",
       "    </tr>\n",
       "  </thead>\n",
       "  <tbody>\n",
       "    <tr>\n",
       "      <th>5.0</th>\n",
       "      <td>1</td>\n",
       "      <td>0</td>\n",
       "      <td>1.000000</td>\n",
       "    </tr>\n",
       "    <tr>\n",
       "      <th>6.0</th>\n",
       "      <td>0</td>\n",
       "      <td>3</td>\n",
       "      <td>0.000000</td>\n",
       "    </tr>\n",
       "    <tr>\n",
       "      <th>7.0</th>\n",
       "      <td>8</td>\n",
       "      <td>34</td>\n",
       "      <td>0.190476</td>\n",
       "    </tr>\n",
       "    <tr>\n",
       "      <th>8.0</th>\n",
       "      <td>28</td>\n",
       "      <td>164</td>\n",
       "      <td>0.145833</td>\n",
       "    </tr>\n",
       "    <tr>\n",
       "      <th>9.0</th>\n",
       "      <td>107</td>\n",
       "      <td>489</td>\n",
       "      <td>0.179530</td>\n",
       "    </tr>\n",
       "    <tr>\n",
       "      <th>...</th>\n",
       "      <td>...</td>\n",
       "      <td>...</td>\n",
       "      <td>...</td>\n",
       "    </tr>\n",
       "    <tr>\n",
       "      <th>99.0</th>\n",
       "      <td>0</td>\n",
       "      <td>33</td>\n",
       "      <td>0.000000</td>\n",
       "    </tr>\n",
       "    <tr>\n",
       "      <th>100.0</th>\n",
       "      <td>3</td>\n",
       "      <td>23</td>\n",
       "      <td>0.115385</td>\n",
       "    </tr>\n",
       "    <tr>\n",
       "      <th>101.0</th>\n",
       "      <td>2</td>\n",
       "      <td>41</td>\n",
       "      <td>0.046512</td>\n",
       "    </tr>\n",
       "    <tr>\n",
       "      <th>102.0</th>\n",
       "      <td>2</td>\n",
       "      <td>12</td>\n",
       "      <td>0.142857</td>\n",
       "    </tr>\n",
       "    <tr>\n",
       "      <th>103.0</th>\n",
       "      <td>0</td>\n",
       "      <td>1</td>\n",
       "      <td>0.000000</td>\n",
       "    </tr>\n",
       "  </tbody>\n",
       "</table>\n",
       "<p>99 rows × 3 columns</p>\n",
       "</div>"
      ],
      "text/plain": [
       "sex      F    M     ratio\n",
       "age                      \n",
       "5.0      1    0  1.000000\n",
       "6.0      0    3  0.000000\n",
       "7.0      8   34  0.190476\n",
       "8.0     28  164  0.145833\n",
       "9.0    107  489  0.179530\n",
       "...    ...  ...       ...\n",
       "99.0     0   33  0.000000\n",
       "100.0    3   23  0.115385\n",
       "101.0    2   41  0.046512\n",
       "102.0    2   12  0.142857\n",
       "103.0    0    1  0.000000\n",
       "\n",
       "[99 rows x 3 columns]"
      ]
     },
     "execution_count": 67,
     "metadata": {},
     "output_type": "execute_result"
    }
   ],
   "source": [
    "genders_by_age"
   ]
  },
  {
   "cell_type": "code",
   "execution_count": 82,
   "id": "25369f49",
   "metadata": {},
   "outputs": [
    {
     "data": {
      "text/plain": [
       "Text(0, 0.5, 'Ratio')"
      ]
     },
     "execution_count": 82,
     "metadata": {},
     "output_type": "execute_result"
    },
    {
     "data": {
      "image/png": "[encoded data removed]",
      "text/plain": [
       "<Figure size 720x432 with 1 Axes>"
      ]
     },
     "metadata": {
      "needs_background": "light"
     },
     "output_type": "display_data"
    }
   ],
   "source": [
    "plt.figure(figsize=(10,6))\n",
    "genders_by_age['ratio'].drop([5,6]).plot(marker='o',\n",
    "         markerfacecolor='red', markersize=3)\n",
    "plt.title('Ratio of female chess playes by age')\n",
    "plt.xlabel('Age')\n",
    "plt.ylabel('Ratio')"
   ]
  },
  {
   "cell_type": "code",
   "execution_count": 104,
   "id": "e17fc8b0",
   "metadata": {},
   "outputs": [],
   "source": [
    "# genders_by_age.groupby(pd.cut(genders_by_age.index, np.arange(5,105,5))).sum()\n",
    "# # pd.cut(genders_by_age.index, np.arange(5,105,5))[1:-3]"
   ]
  },
  {
   "cell_type": "code",
   "execution_count": 105,
   "id": "82f9006c",
   "metadata": {},
   "outputs": [],
   "source": [
    "genders_by_dob = df.pivot_table(index='birthday', columns='sex',aggfunc='count',fill_value=0)['rating']\n",
    "genders_by_dob['ratio'] = genders_by_dob.apply(lambda x: x.F/(x.F+x.M), axis=1)"
   ]
  },
  {
   "cell_type": "code",
   "execution_count": 113,
   "id": "00182cd9",
   "metadata": {},
   "outputs": [
    {
     "data": {
      "text/html": [
       "<div>\n",
       "<style scoped>\n",
       "    .dataframe tbody tr th:only-of-type {\n",
       "        vertical-align: middle;\n",
       "    }\n",
       "\n",
       "    .dataframe tbody tr th {\n",
       "        vertical-align: top;\n",
       "    }\n",
       "\n",
       "    .dataframe thead th {\n",
       "        text-align: right;\n",
       "    }\n",
       "</style>\n",
       "<table border=\"1\" class=\"dataframe\">\n",
       "  <thead>\n",
       "    <tr style=\"text-align: right;\">\n",
       "      <th>sex</th>\n",
       "      <th>F</th>\n",
       "      <th>M</th>\n",
       "      <th>ratio</th>\n",
       "    </tr>\n",
       "    <tr>\n",
       "      <th>birthday</th>\n",
       "      <th></th>\n",
       "      <th></th>\n",
       "      <th></th>\n",
       "    </tr>\n",
       "  </thead>\n",
       "  <tbody>\n",
       "    <tr>\n",
       "      <th>2013.0</th>\n",
       "      <td>107</td>\n",
       "      <td>489</td>\n",
       "      <td>0.179530</td>\n",
       "    </tr>\n",
       "    <tr>\n",
       "      <th>2014.0</th>\n",
       "      <td>28</td>\n",
       "      <td>164</td>\n",
       "      <td>0.145833</td>\n",
       "    </tr>\n",
       "    <tr>\n",
       "      <th>2015.0</th>\n",
       "      <td>8</td>\n",
       "      <td>34</td>\n",
       "      <td>0.190476</td>\n",
       "    </tr>\n",
       "    <tr>\n",
       "      <th>2016.0</th>\n",
       "      <td>0</td>\n",
       "      <td>3</td>\n",
       "      <td>0.000000</td>\n",
       "    </tr>\n",
       "    <tr>\n",
       "      <th>2017.0</th>\n",
       "      <td>1</td>\n",
       "      <td>0</td>\n",
       "      <td>1.000000</td>\n",
       "    </tr>\n",
       "  </tbody>\n",
       "</table>\n",
       "</div>"
      ],
      "text/plain": [
       "sex         F    M     ratio\n",
       "birthday                    \n",
       "2013.0    107  489  0.179530\n",
       "2014.0     28  164  0.145833\n",
       "2015.0      8   34  0.190476\n",
       "2016.0      0    3  0.000000\n",
       "2017.0      1    0  1.000000"
      ]
     },
     "execution_count": 113,
     "metadata": {},
     "output_type": "execute_result"
    }
   ],
   "source": [
    "genders_by_dob.tail()"
   ]
  },
  {
   "cell_type": "code",
   "execution_count": 111,
   "id": "a5cfd332",
   "metadata": {},
   "outputs": [
    {
     "data": {
      "text/plain": [
       "Text(0, 0.5, 'Ratio')"
      ]
     },
     "execution_count": 111,
     "metadata": {},
     "output_type": "execute_result"
    },
    {
     "data": {
      "image/png": "[encoded data removed]",
      "text/plain": [
       "<Figure size 720x432 with 1 Axes>"
      ]
     },
     "metadata": {
      "needs_background": "light"
     },
     "output_type": "display_data"
    }
   ],
   "source": [
    "plt.figure(figsize=(10,6))\n",
    "genders_by_dob['ratio'].drop([2016,2017]).plot(marker='o',\n",
    "         markerfacecolor='red', markersize=3)\n",
    "plt.title('Ratio of female chess playes by Year of birth')\n",
    "plt.xlabel('Year')\n",
    "plt.ylabel('Ratio')"
   ]
  },
  {
   "cell_type": "code",
   "execution_count": 137,
   "id": "4bc222b8",
   "metadata": {},
   "outputs": [],
   "source": [
    "rolling = genders_by_dob.rolling(window=5, min_periods=5, ).sum()\n",
    "rolling['ratio'] = rolling.apply(lambda x: x.F/(x.F+x.M), axis=1)"
   ]
  },
  {
   "cell_type": "code",
   "execution_count": 140,
   "id": "4f4eb51f",
   "metadata": {},
   "outputs": [
    {
     "data": {
      "text/plain": [
       "Text(0, 0.5, 'Ratio')"
      ]
     },
     "execution_count": 140,
     "metadata": {},
     "output_type": "execute_result"
    },
    {
     "data": {
      "image/png": "[encoded data removed]",
      "text/plain": [
       "<Figure size 720x432 with 1 Axes>"
      ]
     },
     "metadata": {
      "needs_background": "light"
     },
     "output_type": "display_data"
    }
   ],
   "source": [
    "plt.figure(figsize=(10,6))\n",
    "rolling['ratio'].plot(marker='o',\n",
    "         markerfacecolor='red', markersize=3)\n",
    "plt.title('Rolling 5-year average of the ratio of female chess playes by Year of birth')\n",
    "plt.xlabel('Year')\n",
    "plt.ylabel('Ratio')"
   ]
  },
  {
   "cell_type": "code",
   "execution_count": 139,
   "id": "2b5c2959",
   "metadata": {},
   "outputs": [
    {
     "data": {
      "text/html": [
       "<div>\n",
       "<style scoped>\n",
       "    .dataframe tbody tr th:only-of-type {\n",
       "        vertical-align: middle;\n",
       "    }\n",
       "\n",
       "    .dataframe tbody tr th {\n",
       "        vertical-align: top;\n",
       "    }\n",
       "\n",
       "    .dataframe thead th {\n",
       "        text-align: right;\n",
       "    }\n",
       "</style>\n",
       "<table border=\"1\" class=\"dataframe\">\n",
       "  <thead>\n",
       "    <tr style=\"text-align: right;\">\n",
       "      <th>sex</th>\n",
       "      <th>F</th>\n",
       "      <th>M</th>\n",
       "      <th>ratio</th>\n",
       "    </tr>\n",
       "    <tr>\n",
       "      <th>birthday</th>\n",
       "      <th></th>\n",
       "      <th></th>\n",
       "      <th></th>\n",
       "    </tr>\n",
       "  </thead>\n",
       "  <tbody>\n",
       "    <tr>\n",
       "      <th>1919.0</th>\n",
       "      <td>NaN</td>\n",
       "      <td>NaN</td>\n",
       "      <td>NaN</td>\n",
       "    </tr>\n",
       "    <tr>\n",
       "      <th>1920.0</th>\n",
       "      <td>NaN</td>\n",
       "      <td>NaN</td>\n",
       "      <td>NaN</td>\n",
       "    </tr>\n",
       "    <tr>\n",
       "      <th>1921.0</th>\n",
       "      <td>NaN</td>\n",
       "      <td>NaN</td>\n",
       "      <td>NaN</td>\n",
       "    </tr>\n",
       "    <tr>\n",
       "      <th>1922.0</th>\n",
       "      <td>NaN</td>\n",
       "      <td>NaN</td>\n",
       "      <td>NaN</td>\n",
       "    </tr>\n",
       "    <tr>\n",
       "      <th>1923.0</th>\n",
       "      <td>7.0</td>\n",
       "      <td>110.0</td>\n",
       "      <td>0.059829</td>\n",
       "    </tr>\n",
       "    <tr>\n",
       "      <th>...</th>\n",
       "      <td>...</td>\n",
       "      <td>...</td>\n",
       "      <td>...</td>\n",
       "    </tr>\n",
       "    <tr>\n",
       "      <th>2013.0</th>\n",
       "      <td>3196.0</td>\n",
       "      <td>12972.0</td>\n",
       "      <td>0.197674</td>\n",
       "    </tr>\n",
       "    <tr>\n",
       "      <th>2014.0</th>\n",
       "      <td>1895.0</td>\n",
       "      <td>7895.0</td>\n",
       "      <td>0.193565</td>\n",
       "    </tr>\n",
       "    <tr>\n",
       "      <th>2015.0</th>\n",
       "      <td>980.0</td>\n",
       "      <td>4237.0</td>\n",
       "      <td>0.187847</td>\n",
       "    </tr>\n",
       "    <tr>\n",
       "      <th>2016.0</th>\n",
       "      <td>427.0</td>\n",
       "      <td>1912.0</td>\n",
       "      <td>0.182557</td>\n",
       "    </tr>\n",
       "    <tr>\n",
       "      <th>2017.0</th>\n",
       "      <td>144.0</td>\n",
       "      <td>690.0</td>\n",
       "      <td>0.172662</td>\n",
       "    </tr>\n",
       "  </tbody>\n",
       "</table>\n",
       "<p>99 rows × 3 columns</p>\n",
       "</div>"
      ],
      "text/plain": [
       "sex            F        M     ratio\n",
       "birthday                           \n",
       "1919.0       NaN      NaN       NaN\n",
       "1920.0       NaN      NaN       NaN\n",
       "1921.0       NaN      NaN       NaN\n",
       "1922.0       NaN      NaN       NaN\n",
       "1923.0       7.0    110.0  0.059829\n",
       "...          ...      ...       ...\n",
       "2013.0    3196.0  12972.0  0.197674\n",
       "2014.0    1895.0   7895.0  0.193565\n",
       "2015.0     980.0   4237.0  0.187847\n",
       "2016.0     427.0   1912.0  0.182557\n",
       "2017.0     144.0    690.0  0.172662\n",
       "\n",
       "[99 rows x 3 columns]"
      ]
     },
     "execution_count": 139,
     "metadata": {},
     "output_type": "execute_result"
    }
   ],
   "source": [
    "rolling"
   ]
  },
  {
   "cell_type": "code",
   "execution_count": null,
   "id": "78306698",
   "metadata": {},
   "outputs": [],
   "source": []
  }
 ],
 "metadata": {
  "kernelspec": {
   "display_name": "Python 3 (ipykernel)",
   "language": "python",
   "name": "python3"
  },
  "language_info": {
   "codemirror_mode": {
    "name": "ipython",
    "version": 3
   },
   "file_extension": ".py",
   "mimetype": "text/x-python",
   "name": "python",
   "nbconvert_exporter": "python",
   "pygments_lexer": "ipython3",
   "version": "3.7.7"
  }
 },
 "nbformat": 4,
 "nbformat_minor": 5
}
