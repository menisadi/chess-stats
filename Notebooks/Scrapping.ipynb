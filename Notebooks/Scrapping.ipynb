{
 "cells": [
  {
   "cell_type": "code",
   "execution_count": 1,
   "id": "f91979db",
   "metadata": {
    "execution": {
     "iopub.execute_input": "2023-04-19T10:36:21.346502Z",
     "iopub.status.busy": "2023-04-19T10:36:21.346052Z",
     "iopub.status.idle": "2023-04-19T10:36:21.966665Z",
     "shell.execute_reply": "2023-04-19T10:36:21.966401Z",
     "shell.execute_reply.started": "2023-04-19T10:36:21.346439Z"
    },
    "tags": []
   },
   "outputs": [],
   "source": [
    "import numpy as np\n",
    "import pandas as pd\n",
    "import seaborn as sns\n",
    "import matplotlib.pyplot as plt\n",
    "%config Completer.use_jedi = False\n",
    "%matplotlib inline"
   ]
  },
  {
   "cell_type": "code",
   "execution_count": 2,
   "id": "35fc65d5",
   "metadata": {
    "execution": {
     "iopub.execute_input": "2023-04-19T10:36:21.967317Z",
     "iopub.status.busy": "2023-04-19T10:36:21.967180Z",
     "iopub.status.idle": "2023-04-19T10:36:21.969524Z",
     "shell.execute_reply": "2023-04-19T10:36:21.968963Z",
     "shell.execute_reply.started": "2023-04-19T10:36:21.967306Z"
    },
    "tags": []
   },
   "outputs": [],
   "source": [
    "import os"
   ]
  },
  {
   "cell_type": "code",
   "execution_count": 3,
   "id": "a456c7c5",
   "metadata": {
    "execution": {
     "iopub.execute_input": "2023-04-19T10:36:21.970085Z",
     "iopub.status.busy": "2023-04-19T10:36:21.969989Z",
     "iopub.status.idle": "2023-04-19T10:36:21.981137Z",
     "shell.execute_reply": "2023-04-19T10:36:21.980863Z",
     "shell.execute_reply.started": "2023-04-19T10:36:21.970076Z"
    },
    "tags": []
   },
   "outputs": [],
   "source": [
    "from tqdm.notebook import tqdm"
   ]
  },
  {
   "cell_type": "code",
   "execution_count": 4,
   "id": "aab9e5b0",
   "metadata": {
    "execution": {
     "iopub.execute_input": "2023-04-19T10:36:21.982504Z",
     "iopub.status.busy": "2023-04-19T10:36:21.982382Z",
     "iopub.status.idle": "2023-04-19T10:36:22.014754Z",
     "shell.execute_reply": "2023-04-19T10:36:22.014486Z",
     "shell.execute_reply.started": "2023-04-19T10:36:21.982493Z"
    },
    "tags": []
   },
   "outputs": [],
   "source": [
    "import requests"
   ]
  },
  {
   "cell_type": "code",
   "execution_count": 5,
   "id": "56669cf8",
   "metadata": {
    "execution": {
     "iopub.execute_input": "2023-04-19T10:36:22.015268Z",
     "iopub.status.busy": "2023-04-19T10:36:22.015169Z",
     "iopub.status.idle": "2023-04-19T10:36:22.017268Z",
     "shell.execute_reply": "2023-04-19T10:36:22.016992Z",
     "shell.execute_reply.started": "2023-04-19T10:36:22.015258Z"
    },
    "tags": []
   },
   "outputs": [],
   "source": [
    "import re"
   ]
  },
  {
   "cell_type": "code",
   "execution_count": 6,
   "id": "70ef9630",
   "metadata": {
    "execution": {
     "iopub.execute_input": "2023-04-19T10:36:22.017808Z",
     "iopub.status.busy": "2023-04-19T10:36:22.017715Z",
     "iopub.status.idle": "2023-04-19T10:36:22.057943Z",
     "shell.execute_reply": "2023-04-19T10:36:22.057678Z",
     "shell.execute_reply.started": "2023-04-19T10:36:22.017799Z"
    },
    "tags": []
   },
   "outputs": [],
   "source": [
    "from bs4 import BeautifulSoup"
   ]
  },
  {
   "cell_type": "code",
   "execution_count": 7,
   "id": "15ed6ca4",
   "metadata": {
    "execution": {
     "iopub.execute_input": "2023-04-19T10:36:22.058592Z",
     "iopub.status.busy": "2023-04-19T10:36:22.058434Z",
     "iopub.status.idle": "2023-04-19T10:36:22.060244Z",
     "shell.execute_reply": "2023-04-19T10:36:22.059949Z",
     "shell.execute_reply.started": "2023-04-19T10:36:22.058579Z"
    },
    "tags": []
   },
   "outputs": [],
   "source": [
    "import urllib.request"
   ]
  },
  {
   "cell_type": "code",
   "execution_count": 8,
   "id": "e4772bdb",
   "metadata": {
    "execution": {
     "iopub.execute_input": "2023-04-19T10:36:22.060868Z",
     "iopub.status.busy": "2023-04-19T10:36:22.060731Z",
     "iopub.status.idle": "2023-04-19T10:36:22.063142Z",
     "shell.execute_reply": "2023-04-19T10:36:22.062673Z",
     "shell.execute_reply.started": "2023-04-19T10:36:22.060857Z"
    },
    "tags": []
   },
   "outputs": [],
   "source": [
    "def find_files(url):\n",
    "    soup = BeautifulSoup(requests.get(url).text)\n",
    "\n",
    "    hrefs = []\n",
    "\n",
    "    for a in soup.find_all('a'):\n",
    "        hrefs.append(a['href'])\n",
    "\n",
    "    return hrefs\n",
    "\n",
    "def extension(file_link):\n",
    "    return file_link.split(sep='.')[-1]"
   ]
  },
  {
   "cell_type": "code",
   "execution_count": 9,
   "id": "8f13b1f7",
   "metadata": {
    "execution": {
     "iopub.execute_input": "2023-04-19T10:36:22.063716Z",
     "iopub.status.busy": "2023-04-19T10:36:22.063627Z",
     "iopub.status.idle": "2023-04-19T10:36:22.066113Z",
     "shell.execute_reply": "2023-04-19T10:36:22.065864Z",
     "shell.execute_reply.started": "2023-04-19T10:36:22.063707Z"
    },
    "tags": []
   },
   "outputs": [],
   "source": [
    "def find_standard_xml_zip(link):\n",
    "    result = False\n",
    "    first_split = re.split('/|\\.',link)\n",
    "    second_split = first_split[-2].split(sep='_')\n",
    "    if first_split[-1] == 'zip':\n",
    "        if len(second_split) == 3:\n",
    "            if second_split[0] == 'standard':\n",
    "                if second_split[2] == 'xml':\n",
    "                    result = second_split[1][-3:] == 'frl'\n",
    "    return result"
   ]
  },
  {
   "cell_type": "code",
   "execution_count": 10,
   "id": "645f5959",
   "metadata": {
    "execution": {
     "iopub.execute_input": "2023-04-19T10:36:22.066663Z",
     "iopub.status.busy": "2023-04-19T10:36:22.066565Z",
     "iopub.status.idle": "2023-04-19T10:36:22.242375Z",
     "shell.execute_reply": "2023-04-19T10:36:22.241663Z",
     "shell.execute_reply.started": "2023-04-19T10:36:22.066654Z"
    },
    "tags": []
   },
   "outputs": [
    {
     "name": "stdout",
     "output_type": "stream",
     "text": [
      "http://ratings.fide.com/download/standard_mar13frl_xml.zip\n"
     ]
    }
   ],
   "source": [
    "fide_url = \"http://ratings.fide.com/download.phtml?period=2013-03-01\" \n",
    "list_of_links = find_files(fide_url)\n",
    "\n",
    "## show what you've found:\n",
    "for link in list_of_links:\n",
    "    if find_standard_xml_zip(link):\n",
    "        print(link)"
   ]
  },
  {
   "cell_type": "code",
   "execution_count": 11,
   "id": "9470a981",
   "metadata": {
    "execution": {
     "iopub.execute_input": "2023-04-19T10:36:22.244015Z",
     "iopub.status.busy": "2023-04-19T10:36:22.243720Z",
     "iopub.status.idle": "2023-04-19T10:36:22.246768Z",
     "shell.execute_reply": "2023-04-19T10:36:22.246258Z",
     "shell.execute_reply.started": "2023-04-19T10:36:22.243990Z"
    },
    "tags": []
   },
   "outputs": [],
   "source": [
    "exp = 'http://ratings.fide.com/download/standard_mar13frl_xml.zip'"
   ]
  },
  {
   "cell_type": "code",
   "execution_count": 12,
   "id": "94a3c81b",
   "metadata": {
    "execution": {
     "iopub.execute_input": "2023-04-19T10:36:22.247662Z",
     "iopub.status.busy": "2023-04-19T10:36:22.247506Z",
     "iopub.status.idle": "2023-04-19T10:36:22.252743Z",
     "shell.execute_reply": "2023-04-19T10:36:22.252037Z",
     "shell.execute_reply.started": "2023-04-19T10:36:22.247645Z"
    },
    "tags": []
   },
   "outputs": [
    {
     "data": {
      "text/plain": [
       "True"
      ]
     },
     "execution_count": 12,
     "metadata": {},
     "output_type": "execute_result"
    }
   ],
   "source": [
    "find_standard_xml_zip(exp)"
   ]
  },
  {
   "cell_type": "code",
   "execution_count": 13,
   "id": "c98d66ca",
   "metadata": {
    "execution": {
     "iopub.execute_input": "2023-04-19T10:36:22.256492Z",
     "iopub.status.busy": "2023-04-19T10:36:22.256325Z",
     "iopub.status.idle": "2023-04-19T10:36:26.545377Z",
     "shell.execute_reply": "2023-04-19T10:36:26.544456Z",
     "shell.execute_reply.started": "2023-04-19T10:36:22.256477Z"
    },
    "tags": []
   },
   "outputs": [
    {
     "name": "stdout",
     "output_type": "stream",
     "text": [
      "Date: 2013-1\n",
      "http://ratings.fide.com/download/standard_jan13frl_xml.zip\n",
      "Date: 2013-2\n",
      "http://ratings.fide.com/download/standard_feb13frl_xml.zip\n",
      "Date: 2014-1\n",
      "http://ratings.fide.com/download/standard_jan14frl_xml.zip\n",
      "Date: 2014-2\n",
      "http://ratings.fide.com/download/standard_feb14frl_xml.zip\n",
      "Date: 2015-1\n",
      "http://ratings.fide.com/download/standard_jan15frl_xml.zip\n",
      "Date: 2015-2\n",
      "http://ratings.fide.com/download/standard_feb15frl_xml.zip\n",
      "Date: 2016-1\n",
      "http://ratings.fide.com/download/standard_jan16frl_xml.zip\n",
      "Date: 2016-2\n",
      "http://ratings.fide.com/download/standard_feb16frl_xml.zip\n",
      "Date: 2017-1\n",
      "http://ratings.fide.com/download/standard_jan17frl_xml.zip\n",
      "Date: 2017-2\n",
      "http://ratings.fide.com/download/standard_feb17frl_xml.zip\n",
      "Date: 2018-1\n",
      "http://ratings.fide.com/download/standard_jan18frl_xml.zip\n",
      "Date: 2018-2\n",
      "http://ratings.fide.com/download/standard_feb18frl_xml.zip\n",
      "Date: 2019-1\n",
      "http://ratings.fide.com/download/standard_jan19frl_xml.zip\n",
      "Date: 2019-2\n",
      "http://ratings.fide.com/download/standard_feb19frl_xml.zip\n",
      "Date: 2020-1\n",
      "http://ratings.fide.com/download/standard_jan20frl_xml.zip\n",
      "Date: 2020-2\n",
      "http://ratings.fide.com/download/standard_feb20frl_xml.zip\n",
      "Date: 2021-1\n",
      "http://ratings.fide.com/download/standard_jan21frl_xml.zip\n",
      "Date: 2021-2\n",
      "http://ratings.fide.com/download/standard_feb21frl_xml.zip\n",
      "Date: 2022-1\n",
      "http://ratings.fide.com/download/standard_jan22frl_xml.zip\n",
      "Date: 2022-2\n",
      "http://ratings.fide.com/download/standard_feb22frl_xml.zip\n"
     ]
    }
   ],
   "source": [
    "years = range(2013,2023)\n",
    "months = range(1,3)\n",
    "empty_until_now = True\n",
    "for year in years:\n",
    "    for month in months:\n",
    "        if month < 10:\n",
    "            fide_url = f\"http://ratings.fide.com/download.phtml?period={year}-0{month}-01\" \n",
    "        else:\n",
    "            fide_url = f\"http://ratings.fide.com/download.phtml?period={year}-{month}-01\"\n",
    "#         print(f'Date: {year}-{month}')\n",
    "        list_of_links = [link for link in find_files(fide_url) if find_standard_xml_zip(link)]\n",
    "#         if list_of_links and empty_until_now:\n",
    "#             empty_until_now = False\n",
    "        print(f'Date: {year}-{month}')\n",
    "        print(list_of_links[0])"
   ]
  },
  {
   "cell_type": "code",
   "execution_count": 14,
   "id": "252502e1",
   "metadata": {
    "execution": {
     "iopub.execute_input": "2023-04-19T10:36:26.547148Z",
     "iopub.status.busy": "2023-04-19T10:36:26.546779Z",
     "iopub.status.idle": "2023-04-19T10:36:51.996629Z",
     "shell.execute_reply": "2023-04-19T10:36:51.995735Z",
     "shell.execute_reply.started": "2023-04-19T10:36:26.547121Z"
    },
    "tags": []
   },
   "outputs": [
    {
     "name": "stdout",
     "output_type": "stream",
     "text": [
      "120\n"
     ]
    }
   ],
   "source": [
    "all_xml_links = dict()\n",
    "years = range(2013,2023)\n",
    "months = range(1,13)\n",
    "empty_until_now = True\n",
    "for year in years:\n",
    "    for month in months:\n",
    "        date = f'{year}-{month}'\n",
    "        if month < 10:\n",
    "            fide_url = f\"http://ratings.fide.com/download.phtml?period={year}-0{month}-01\" \n",
    "        else:\n",
    "            fide_url = f\"http://ratings.fide.com/download.phtml?period={year}-{month}-01\"\n",
    "        list_of_links = [link for link in find_files(fide_url) if find_standard_xml_zip(link)]\n",
    "        if not list_of_links:\n",
    "            print(f'Date: {year}-{month}')\n",
    "        else:\n",
    "            all_xml_links[date] = list_of_links[0]\n",
    "#         print(f'Date: {year}-{month}')\n",
    "#         print(list_of_links[0])\n",
    "print(len(all_xml_links))"
   ]
  },
  {
   "cell_type": "code",
   "execution_count": 15,
   "id": "261caa28",
   "metadata": {
    "execution": {
     "iopub.execute_input": "2023-04-19T10:36:51.998248Z",
     "iopub.status.busy": "2023-04-19T10:36:51.997999Z",
     "iopub.status.idle": "2023-04-19T10:36:52.001795Z",
     "shell.execute_reply": "2023-04-19T10:36:52.001147Z",
     "shell.execute_reply.started": "2023-04-19T10:36:51.998224Z"
    },
    "tags": []
   },
   "outputs": [],
   "source": [
    "# for date in tqdm(all_xml_links.keys()):\n",
    "#     print(date + \".zip\")"
   ]
  },
  {
   "cell_type": "code",
   "execution_count": 16,
   "id": "0358ba54",
   "metadata": {
    "execution": {
     "iopub.execute_input": "2023-04-19T10:36:52.003203Z",
     "iopub.status.busy": "2023-04-19T10:36:52.002852Z",
     "iopub.status.idle": "2023-04-19T10:36:52.006623Z",
     "shell.execute_reply": "2023-04-19T10:36:52.006090Z",
     "shell.execute_reply.started": "2023-04-19T10:36:52.003181Z"
    },
    "tags": []
   },
   "outputs": [],
   "source": [
    "os.chdir('./xmls')\n",
    " \n",
    "# verify the path using getcwd()\n",
    "cwd = os.getcwd()"
   ]
  },
  {
   "cell_type": "code",
   "execution_count": 17,
   "id": "f5638261",
   "metadata": {
    "execution": {
     "iopub.execute_input": "2023-04-19T10:36:52.007748Z",
     "iopub.status.busy": "2023-04-19T10:36:52.007376Z",
     "iopub.status.idle": "2023-04-19T10:36:52.013152Z",
     "shell.execute_reply": "2023-04-19T10:36:52.012686Z",
     "shell.execute_reply.started": "2023-04-19T10:36:52.007681Z"
    },
    "tags": []
   },
   "outputs": [
    {
     "name": "stdout",
     "output_type": "stream",
     "text": [
      "Current working directory is: /Users/meni/Code/personal/Chess/chess-stats/xmls\n"
     ]
    }
   ],
   "source": [
    "# print the current directory\n",
    "cwd = os.getcwd()\n",
    "print(\"Current working directory is:\", cwd)"
   ]
  },
  {
   "cell_type": "code",
   "execution_count": 18,
   "id": "22877039",
   "metadata": {
    "execution": {
     "iopub.execute_input": "2023-04-19T10:36:52.014323Z",
     "iopub.status.busy": "2023-04-19T10:36:52.014127Z",
     "iopub.status.idle": "2023-04-19T10:49:07.391063Z",
     "shell.execute_reply": "2023-04-19T10:49:07.390672Z",
     "shell.execute_reply.started": "2023-04-19T10:36:52.014305Z"
    },
    "tags": []
   },
   "outputs": [
    {
     "data": {
      "application/vnd.jupyter.widget-view+json": {
       "model_id": "8bd56ce96abd4a2aa848fe9c703c0c1a",
       "version_major": 2,
       "version_minor": 0
      },
      "text/plain": [
       "  0%|          | 0/120 [00:00<?, ?it/s]"
      ]
     },
     "metadata": {},
     "output_type": "display_data"
    }
   ],
   "source": [
    "for date in tqdm(all_xml_links.keys()):\n",
    "    urllib.request.urlretrieve(all_xml_links[date], date + \".zip\")"
   ]
  },
  {
   "cell_type": "code",
   "execution_count": null,
   "id": "c97bedfe",
   "metadata": {},
   "outputs": [],
   "source": []
  }
 ],
 "metadata": {
  "kernelspec": {
   "display_name": "Python 3 (ipykernel)",
   "language": "python",
   "name": "python3"
  },
  "language_info": {
   "codemirror_mode": {
    "name": "ipython",
    "version": 3
   },
   "file_extension": ".py",
   "mimetype": "text/x-python",
   "name": "python",
   "nbconvert_exporter": "python",
   "pygments_lexer": "ipython3",
   "version": "3.10.10"
  }
 },
 "nbformat": 4,
 "nbformat_minor": 5
}
