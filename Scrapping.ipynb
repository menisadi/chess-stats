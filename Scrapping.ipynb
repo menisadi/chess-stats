{
 "cells": [
  {
   "cell_type": "code",
   "execution_count": 1,
   "id": "f91979db",
   "metadata": {},
   "outputs": [],
   "source": [
    "import numpy as np\n",
    "import pandas as pd\n",
    "import seaborn as sns\n",
    "import matplotlib.pyplot as plt\n",
    "%config Completer.use_jedi = False\n",
    "%matplotlib inline"
   ]
  },
  {
   "cell_type": "code",
   "execution_count": 2,
   "id": "35fc65d5",
   "metadata": {},
   "outputs": [],
   "source": [
    "import os"
   ]
  },
  {
   "cell_type": "code",
   "execution_count": 3,
   "id": "a456c7c5",
   "metadata": {},
   "outputs": [],
   "source": [
    "from tqdm.notebook import tqdm"
   ]
  },
  {
   "cell_type": "code",
   "execution_count": 4,
   "id": "aab9e5b0",
   "metadata": {},
   "outputs": [],
   "source": [
    "import requests"
   ]
  },
  {
   "cell_type": "code",
   "execution_count": 5,
   "id": "56669cf8",
   "metadata": {},
   "outputs": [],
   "source": [
    "import re"
   ]
  },
  {
   "cell_type": "code",
   "execution_count": 6,
   "id": "70ef9630",
   "metadata": {},
   "outputs": [],
   "source": [
    "from bs4 import BeautifulSoup"
   ]
  },
  {
   "cell_type": "code",
   "execution_count": 7,
   "id": "15ed6ca4",
   "metadata": {},
   "outputs": [],
   "source": [
    "import urllib.request"
   ]
  },
  {
   "cell_type": "code",
   "execution_count": 8,
   "id": "e4772bdb",
   "metadata": {},
   "outputs": [],
   "source": [
    "def find_files(url):\n",
    "    soup = BeautifulSoup(requests.get(url).text)\n",
    "\n",
    "    hrefs = []\n",
    "\n",
    "    for a in soup.find_all('a'):\n",
    "        hrefs.append(a['href'])\n",
    "\n",
    "    return hrefs\n",
    "\n",
    "def extension(file_link):\n",
    "    return file_link.split(sep='.')[-1]"
   ]
  },
  {
   "cell_type": "code",
   "execution_count": 57,
   "id": "645f5959",
   "metadata": {},
   "outputs": [
    {
     "name": "stdout",
     "output_type": "stream",
     "text": [
      "http://ratings.fide.com/download/standard_mar13frl_xml.zip\n"
     ]
    }
   ],
   "source": [
    "fide_url = \"http://ratings.fide.com/download.phtml?period=2013-03-01\" \n",
    "list_of_links = find_files(fide_url)\n",
    "\n",
    "## show what you've found:\n",
    "for link in list_of_links:\n",
    "    if find_standard_xml_zip(link):\n",
    "        print(link)"
   ]
  },
  {
   "cell_type": "code",
   "execution_count": 9,
   "id": "8f13b1f7",
   "metadata": {},
   "outputs": [],
   "source": [
    "def find_standard_xml_zip(link):\n",
    "    result = False\n",
    "    first_split = re.split('/|\\.',link)\n",
    "    second_split = first_split[-2].split(sep='_')\n",
    "    if first_split[-1] == 'zip':\n",
    "        if len(second_split) == 3:\n",
    "            if second_split[0] == 'standard':\n",
    "                if second_split[2] == 'xml':\n",
    "                    result = second_split[1][-3:] == 'frl'\n",
    "    return result"
   ]
  },
  {
   "cell_type": "code",
   "execution_count": 49,
   "id": "9470a981",
   "metadata": {},
   "outputs": [],
   "source": [
    "exp = 'http://ratings.fide.com/download/standard_mar13frl_xml.zip'"
   ]
  },
  {
   "cell_type": "code",
   "execution_count": 50,
   "id": "94a3c81b",
   "metadata": {},
   "outputs": [
    {
     "data": {
      "text/plain": [
       "True"
      ]
     },
     "execution_count": 50,
     "metadata": {},
     "output_type": "execute_result"
    }
   ],
   "source": [
    "find_standard_xml_zip(exp)"
   ]
  },
  {
   "cell_type": "code",
   "execution_count": 10,
   "id": "c98d66ca",
   "metadata": {},
   "outputs": [
    {
     "name": "stdout",
     "output_type": "stream",
     "text": [
      "Date: 2013-1\n",
      "http://ratings.fide.com/download/standard_jan13frl_xml.zip\n",
      "Date: 2013-2\n",
      "http://ratings.fide.com/download/standard_feb13frl_xml.zip\n",
      "Date: 2014-1\n",
      "http://ratings.fide.com/download/standard_jan14frl_xml.zip\n",
      "Date: 2014-2\n",
      "http://ratings.fide.com/download/standard_feb14frl_xml.zip\n",
      "Date: 2015-1\n",
      "http://ratings.fide.com/download/standard_jan15frl_xml.zip\n",
      "Date: 2015-2\n",
      "http://ratings.fide.com/download/standard_feb15frl_xml.zip\n",
      "Date: 2016-1\n",
      "http://ratings.fide.com/download/standard_jan16frl_xml.zip\n",
      "Date: 2016-2\n",
      "http://ratings.fide.com/download/standard_feb16frl_xml.zip\n",
      "Date: 2017-1\n",
      "http://ratings.fide.com/download/standard_jan17frl_xml.zip\n",
      "Date: 2017-2\n",
      "http://ratings.fide.com/download/standard_feb17frl_xml.zip\n",
      "Date: 2018-1\n",
      "http://ratings.fide.com/download/standard_jan18frl_xml.zip\n",
      "Date: 2018-2\n",
      "http://ratings.fide.com/download/standard_feb18frl_xml.zip\n",
      "Date: 2019-1\n",
      "http://ratings.fide.com/download/standard_jan19frl_xml.zip\n",
      "Date: 2019-2\n",
      "http://ratings.fide.com/download/standard_feb19frl_xml.zip\n",
      "Date: 2020-1\n",
      "http://ratings.fide.com/download/standard_jan20frl_xml.zip\n",
      "Date: 2020-2\n",
      "http://ratings.fide.com/download/standard_feb20frl_xml.zip\n",
      "Date: 2021-1\n",
      "http://ratings.fide.com/download/standard_jan21frl_xml.zip\n",
      "Date: 2021-2\n",
      "http://ratings.fide.com/download/standard_feb21frl_xml.zip\n",
      "Date: 2022-1\n",
      "http://ratings.fide.com/download/standard_jan22frl_xml.zip\n",
      "Date: 2022-2\n",
      "http://ratings.fide.com/download/standard_feb22frl_xml.zip\n"
     ]
    }
   ],
   "source": [
    "years = range(2013,2023)\n",
    "months = range(1,3)\n",
    "empty_until_now = True\n",
    "for year in years:\n",
    "    for month in months:\n",
    "        if month < 10:\n",
    "            fide_url = f\"http://ratings.fide.com/download.phtml?period={year}-0{month}-01\" \n",
    "        else:\n",
    "            fide_url = f\"http://ratings.fide.com/download.phtml?period={year}-{month}-01\"\n",
    "#         print(f'Date: {year}-{month}')\n",
    "        list_of_links = [link for link in find_files(fide_url) if find_standard_xml_zip(link)]\n",
    "#         if list_of_links and empty_until_now:\n",
    "#             empty_until_now = False\n",
    "        print(f'Date: {year}-{month}')\n",
    "        print(list_of_links[0])"
   ]
  },
  {
   "cell_type": "code",
   "execution_count": 11,
   "id": "252502e1",
   "metadata": {},
   "outputs": [
    {
     "name": "stdout",
     "output_type": "stream",
     "text": [
      "Date: 2022-9\n",
      "Date: 2022-10\n",
      "Date: 2022-11\n",
      "Date: 2022-12\n",
      "116\n"
     ]
    }
   ],
   "source": [
    "all_xml_links = dict()\n",
    "years = range(2013,2023)\n",
    "months = range(1,13)\n",
    "empty_until_now = True\n",
    "for year in years:\n",
    "    for month in months:\n",
    "        date = f'{year}-{month}'\n",
    "        if month < 10:\n",
    "            fide_url = f\"http://ratings.fide.com/download.phtml?period={year}-0{month}-01\" \n",
    "        else:\n",
    "            fide_url = f\"http://ratings.fide.com/download.phtml?period={year}-{month}-01\"\n",
    "        list_of_links = [link for link in find_files(fide_url) if find_standard_xml_zip(link)]\n",
    "        if not list_of_links:\n",
    "            print(f'Date: {year}-{month}')\n",
    "        else:\n",
    "            all_xml_links[date] = list_of_links[0]\n",
    "#         print(f'Date: {year}-{month}')\n",
    "#         print(list_of_links[0])\n",
    "print(len(all_xml_links))"
   ]
  },
  {
   "cell_type": "code",
   "execution_count": null,
   "id": "0019f29a",
   "metadata": {},
   "outputs": [],
   "source": []
  },
  {
   "cell_type": "code",
   "execution_count": 92,
   "id": "261caa28",
   "metadata": {},
   "outputs": [],
   "source": [
    "# for date in tqdm(all_xml_links.keys()):\n",
    "#     print(date + \".zip\")"
   ]
  },
  {
   "cell_type": "code",
   "execution_count": 12,
   "id": "0358ba54",
   "metadata": {},
   "outputs": [],
   "source": [
    "os.chdir('G:\\\\My Drive\\\\Code\\\\Misc\\\\FIDE\\\\xmls')\n",
    " \n",
    "# verify the path using getcwd()\n",
    "cwd = os.getcwd()"
   ]
  },
  {
   "cell_type": "code",
   "execution_count": 13,
   "id": "f5638261",
   "metadata": {},
   "outputs": [
    {
     "name": "stdout",
     "output_type": "stream",
     "text": [
      "Current working directory is: G:\\My Drive\\Code\\Misc\\FIDE\\xmls\n"
     ]
    }
   ],
   "source": [
    "# print the current directory\n",
    "print(\"Current working directory is:\", cwd)"
   ]
  },
  {
   "cell_type": "code",
   "execution_count": 14,
   "id": "22877039",
   "metadata": {},
   "outputs": [
    {
     "data": {
      "application/vnd.jupyter.widget-view+json": {
       "model_id": "d1e5f936f356437ca27ce4e39ac2db36",
       "version_major": 2,
       "version_minor": 0
      },
      "text/plain": [
       "  0%|          | 0/116 [00:00<?, ?it/s]"
      ]
     },
     "metadata": {},
     "output_type": "display_data"
    }
   ],
   "source": [
    "for date in tqdm(all_xml_links.keys()):\n",
    "    urllib.request.urlretrieve(all_xml_links[date], date + \".zip\")"
   ]
  },
  {
   "cell_type": "code",
   "execution_count": null,
   "id": "c97bedfe",
   "metadata": {},
   "outputs": [],
   "source": []
  }
 ],
 "metadata": {
  "kernelspec": {
   "display_name": "Python 3 (ipykernel)",
   "language": "python",
   "name": "python3"
  },
  "language_info": {
   "codemirror_mode": {
    "name": "ipython",
    "version": 3
   },
   "file_extension": ".py",
   "mimetype": "text/x-python",
   "name": "python",
   "nbconvert_exporter": "python",
   "pygments_lexer": "ipython3",
   "version": "3.7.7"
  }
 },
 "nbformat": 4,
 "nbformat_minor": 5
}
